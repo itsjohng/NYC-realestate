{
 "cells": [
  {
   "cell_type": "code",
   "execution_count": 1,
   "metadata": {},
   "outputs": [],
   "source": [
    "import pandas as pd\n",
    "import numpy as np\n",
    "import datetime as dt\n",
    "import csv"
   ]
  },
  {
   "cell_type": "code",
   "execution_count": 12,
   "metadata": {},
   "outputs": [
    {
     "data": {
      "text/plain": [
       "[4, 5, 6, 7, 8, 9, 10, 11, 12, 13, 14, 15, 16, 17, 18]"
      ]
     },
     "execution_count": 12,
     "metadata": {},
     "output_type": "execute_result"
    }
   ],
   "source": [
    "d = [*range(4,20)\n",
    "d"
   ]
  },
  {
   "cell_type": "code",
   "execution_count": 31,
   "metadata": {},
   "outputs": [],
   "source": [
    "m_df = pd.DataFrame()\n",
    "for item in range(4,20):\n",
    "    df = pd.read_csv('~/DATA/Sales_Manhattan/sales_manhattan_{}.csv'.format(item))\n",
    "    df.dropna(axis=0, how='all', inplace=True)\n",
    "    m_df = m_df.append(df, ignore_index = True)"
   ]
  },
  {
   "cell_type": "code",
   "execution_count": 37,
   "metadata": {},
   "outputs": [
    {
     "name": "stdout",
     "output_type": "stream",
     "text": [
      "<class 'pandas.core.frame.DataFrame'>\n",
      "RangeIndex: 366293 entries, 0 to 366292\n",
      "Data columns (total 22 columns):\n",
      " #   Column                          Non-Null Count   Dtype  \n",
      "---  ------                          --------------   -----  \n",
      " 0   BOROUGH                         366293 non-null  float64\n",
      " 1   NEIGHBORHOOD                    366293 non-null  object \n",
      " 2   BUILDING CLASS CATEGORY         366293 non-null  object \n",
      " 3   TAX CLASS AT PRESENT            366222 non-null  object \n",
      " 4   BLOCK                           366293 non-null  float64\n",
      " 5   LOT                             366293 non-null  float64\n",
      " 6   EASE-MENT                       349134 non-null  object \n",
      " 7   BUILDING CLASS AT PRESENT       366222 non-null  object \n",
      " 8   ADDRESS                         366293 non-null  object \n",
      " 9   APARTMENT NUMBER                357347 non-null  object \n",
      " 10  ZIP CODE                        366222 non-null  float64\n",
      " 11  RESIDENTIAL UNITS               350917 non-null  object \n",
      " 12  COMMERCIAL UNITS                350917 non-null  object \n",
      " 13  TOTAL UNITS                     350917 non-null  object \n",
      " 14  LAND SQUARE FEET                351037 non-null  object \n",
      " 15  GROSS SQUARE FEET               359146 non-null  object \n",
      " 16  YEAR BUILT                      366222 non-null  float64\n",
      " 17  TAX CLASS AT TIME OF SALE       366293 non-null  float64\n",
      " 18  BUILDING CLASS AT TIME OF SALE  366293 non-null  object \n",
      " 19  SALE PRICE                      349134 non-null  object \n",
      " 20  SALE DATE                       366293 non-null  object \n",
      " 21   SALE PRICE                     17159 non-null   object \n",
      "dtypes: float64(6), object(16)\n",
      "memory usage: 61.5+ MB\n"
     ]
    }
   ],
   "source": [
    "m_df.info()"
   ]
  },
  {
   "cell_type": "code",
   "execution_count": 25,
   "metadata": {},
   "outputs": [
    {
     "data": {
      "text/plain": [
       "BOROUGH                           NaN\n",
       "NEIGHBORHOOD                      NaN\n",
       "BUILDING CLASS CATEGORY           NaN\n",
       "TAX CLASS AT PRESENT              NaN\n",
       "BLOCK                             NaN\n",
       "LOT                               NaN\n",
       "EASE-MENT                         NaN\n",
       "BUILDING CLASS AT PRESENT         NaN\n",
       "ADDRESS                           NaN\n",
       "APARTMENT NUMBER                  NaN\n",
       "ZIP CODE                          NaN\n",
       "RESIDENTIAL UNITS                 NaN\n",
       "COMMERCIAL UNITS                  NaN\n",
       "TOTAL UNITS                       NaN\n",
       "LAND SQUARE FEET                  NaN\n",
       "GROSS SQUARE FEET                 NaN\n",
       "YEAR BUILT                        NaN\n",
       "TAX CLASS AT TIME OF SALE         NaN\n",
       "BUILDING CLASS AT TIME OF SALE    NaN\n",
       " SALE PRICE                       NaN\n",
       "SALE DATE                         NaN\n",
       "Name: 17500, dtype: object"
      ]
     },
     "execution_count": 25,
     "metadata": {},
     "output_type": "execute_result"
    }
   ],
   "source": []
  },
  {
   "cell_type": "code",
   "execution_count": null,
   "metadata": {},
   "outputs": [],
   "source": []
  }
 ],
 "metadata": {
  "kernelspec": {
   "display_name": "Python 3",
   "language": "python",
   "name": "python3"
  },
  "language_info": {
   "codemirror_mode": {
    "name": "ipython",
    "version": 3
   },
   "file_extension": ".py",
   "mimetype": "text/x-python",
   "name": "python",
   "nbconvert_exporter": "python",
   "pygments_lexer": "ipython3",
   "version": "3.7.6"
  }
 },
 "nbformat": 4,
 "nbformat_minor": 4
}
