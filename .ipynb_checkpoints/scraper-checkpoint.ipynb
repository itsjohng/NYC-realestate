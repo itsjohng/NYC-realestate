{
 "cells": [
  {
   "cell_type": "markdown",
   "metadata": {},
   "source": [
    "## Data Scraper Notebook\n",
    "\n",
    "This notebook scrapes google maps for location data to be added to the property sales data set. This notebook should be viewed as a 'paralle' notebook to the Sales Data Cleaning notebook. It takes in the same .csv as that notebook, and outputs a modified version of that data to be imported back into it.\n",
    "\n",
    "The resulting csv is ultimately cleaned up in the sales notebook. \n",
    "\n",
    "A script from a 'Towards Data Science' post was modified to perform this task, which is cited below. In addition to using selenium, the blog post introduced me to 'tqdm' which was used in order to show a 'progress bar' of the scraping process. This same post introduced me to folium which was essential to quickly plotting the location data to an interactive map."
   ]
  },
  {
   "cell_type": "code",
   "execution_count": 2,
   "metadata": {},
   "outputs": [],
   "source": [
    "import pandas as pd\n",
    "import numpy as np\n",
    "import time"
   ]
  },
  {
   "cell_type": "code",
   "execution_count": 3,
   "metadata": {},
   "outputs": [],
   "source": [
    "from selenium import webdriver\n",
    "from tqdm import tqdm_notebook as tqdmn"
   ]
  },
  {
   "cell_type": "code",
   "execution_count": 4,
   "metadata": {},
   "outputs": [
    {
     "name": "stdout",
     "output_type": "stream",
     "text": [
      "<class 'pandas.core.frame.DataFrame'>\n",
      "RangeIndex: 20486 entries, 0 to 20485\n",
      "Data columns (total 21 columns):\n",
      " #   Column                          Non-Null Count  Dtype \n",
      "---  ------                          --------------  ----- \n",
      " 0   BOROUGH                         20486 non-null  int64 \n",
      " 1   NEIGHBORHOOD                    20486 non-null  object\n",
      " 2   BUILDING CLASS CATEGORY         20486 non-null  object\n",
      " 3   TAX CLASS AT PRESENT            20486 non-null  object\n",
      " 4   BLOCK                           20486 non-null  int64 \n",
      " 5   LOT                             20486 non-null  int64 \n",
      " 6   EASE-MENT                       20486 non-null  object\n",
      " 7   BUILDING CLASS AT PRESENT       20486 non-null  object\n",
      " 8   ADDRESS                         20486 non-null  object\n",
      " 9   APARTMENT NUMBER                20486 non-null  object\n",
      " 10  ZIP CODE                        20486 non-null  int64 \n",
      " 11  RESIDENTIAL UNITS               20486 non-null  object\n",
      " 12  COMMERCIAL UNITS                20486 non-null  object\n",
      " 13  TOTAL UNITS                     20486 non-null  object\n",
      " 14  LAND SQUARE FEET                20486 non-null  object\n",
      " 15  GROSS SQUARE FEET               20486 non-null  object\n",
      " 16  YEAR BUILT                      20486 non-null  int64 \n",
      " 17  TAX CLASS AT TIME OF SALE       20486 non-null  int64 \n",
      " 18  BUILDING CLASS AT TIME OF SALE  20486 non-null  object\n",
      " 19  SALE PRICE                      20486 non-null  object\n",
      " 20  SALE DATE                       20486 non-null  object\n",
      "dtypes: int64(6), object(15)\n",
      "memory usage: 3.3+ MB\n"
     ]
    }
   ],
   "source": [
    "#import sales manhattan only year 2016, ~20000 rows.\n",
    "df = pd.read_csv('./Sales_Manhattan/sales_manhattan_16.csv')\n",
    "df.info()"
   ]
  },
  {
   "cell_type": "markdown",
   "metadata": {},
   "source": [
    "**The below cell was made with the intention of eventually using a larger sales data set but was never implemented.**"
   ]
  },
  {
   "cell_type": "code",
   "execution_count": 65,
   "metadata": {},
   "outputs": [
    {
     "name": "stdout",
     "output_type": "stream",
     "text": [
      "<class 'pandas.core.frame.DataFrame'>\n",
      "RangeIndex: 16837 entries, 0 to 16836\n",
      "Data columns (total 21 columns):\n",
      " #   Column                          Non-Null Count  Dtype \n",
      "---  ------                          --------------  ----- \n",
      " 0   BOROUGH                         16837 non-null  int64 \n",
      " 1   NEIGHBORHOOD                    16837 non-null  object\n",
      " 2   BUILDING CLASS CATEGORY         16837 non-null  object\n",
      " 3   TAX CLASS AT PRESENT            16837 non-null  object\n",
      " 4   BLOCK                           16837 non-null  int64 \n",
      " 5   LOT                             16837 non-null  int64 \n",
      " 6   EASE-MENT                       16837 non-null  object\n",
      " 7   BUILDING CLASS AT PRESENT       16837 non-null  object\n",
      " 8   ADDRESS                         16837 non-null  object\n",
      " 9   APARTMENT NUMBER                16837 non-null  object\n",
      " 10  ZIP CODE                        16837 non-null  int64 \n",
      " 11  RESIDENTIAL UNITS               16837 non-null  int64 \n",
      " 12  COMMERCIAL UNITS                16837 non-null  int64 \n",
      " 13  TOTAL UNITS                     16837 non-null  int64 \n",
      " 14  LAND SQUARE FEET                16837 non-null  object\n",
      " 15  GROSS SQUARE FEET               16837 non-null  object\n",
      " 16  YEAR BUILT                      16837 non-null  int64 \n",
      " 17  TAX CLASS AT TIME OF SALE       16837 non-null  int64 \n",
      " 18  BUILDING CLASS AT TIME OF SALE  16837 non-null  object\n",
      " 19  SALE PRICE                      16837 non-null  object\n",
      " 20  SALE DATE                       16837 non-null  object\n",
      "dtypes: int64(9), object(12)\n",
      "memory usage: 2.7+ MB\n"
     ]
    }
   ],
   "source": [
    "# Import All CSV files for Manhattan, 2003-2019 (~370000 rows)\n",
    "def get_data():\n",
    "    folder = \"./Sales_Manhattan/sales_manhattan_{}.csv\"\n",
    "    dfs = []\n",
    "    for num in range(18,19):\n",
    "        file_loc = folder.format(num)\n",
    "        dfs.append(pd.read_csv(file_loc, keep_default_na = False))\n",
    "    return pd.concat(dfs)\n",
    "        \n",
    "df = get_data()\n",
    "df.info()"
   ]
  },
  {
   "cell_type": "code",
   "execution_count": 5,
   "metadata": {},
   "outputs": [],
   "source": [
    "df['ADDRESS'] = df['ADDRESS'].str.strip()\n",
    "df['Full Address'] = df['ADDRESS'].str.cat(df['ZIP CODE'].astype(str), sep = ' ')"
   ]
  },
  {
   "cell_type": "code",
   "execution_count": 6,
   "metadata": {},
   "outputs": [
    {
     "name": "stdout",
     "output_type": "stream",
     "text": [
      "<class 'pandas.core.frame.DataFrame'>\n",
      "RangeIndex: 11482 entries, 0 to 11481\n",
      "Data columns (total 1 columns):\n",
      " #   Column        Non-Null Count  Dtype \n",
      "---  ------        --------------  ----- \n",
      " 0   Full Address  11482 non-null  object\n",
      "dtypes: object(1)\n",
      "memory usage: 89.8+ KB\n"
     ]
    }
   ],
   "source": [
    "a_url = pd.DataFrame()\n",
    "a_url['Full Address'] = df['Full Address'].unique()\n",
    "a_url.info()"
   ]
  },
  {
   "cell_type": "code",
   "execution_count": 121,
   "metadata": {},
   "outputs": [],
   "source": [
    "a_url['Url'] = ['https://www.google.com/maps/search/' + i for i in a_url['Full Address'] ]"
   ]
  },
  {
   "cell_type": "code",
   "execution_count": 122,
   "metadata": {},
   "outputs": [
    {
     "name": "stderr",
     "output_type": "stream",
     "text": [
      "/Users/jhg/opt/anaconda3/lib/python3.7/site-packages/ipykernel_launcher.py:19: TqdmDeprecationWarning: This function will be removed in tqdm==5.0.0\n",
      "Please use `tqdm.notebook.tqdm` instead of `tqdm.tqdm_notebook`\n"
     ]
    },
    {
     "data": {
      "application/vnd.jupyter.widget-view+json": {
       "model_id": "",
       "version_major": 2,
       "version_minor": 0
      },
      "text/plain": [
       "HBox(children=(FloatProgress(value=0.0, max=11482.0), HTML(value='')))"
      ]
     },
     "metadata": {},
     "output_type": "display_data"
    }
   ],
   "source": [
    "#Adapted from 'Using Python and Selenium to get coordinates from street addresses'\n",
    "#Medium post by Khalid El Mouloudi\n",
    "\n",
    "#Added time delay after ~1000 pages, Last kicked at 2288 pages w/o time delay.\n",
    "\n",
    "Url_With_Coordinates = []\n",
    "\n",
    "#\"prefs to run the Webdriver without javascript and images. \n",
    "#This way the code will take much less time to load webpages. \n",
    "#Obviously, this isn’t a good choice if what you want to extract relies on javascript. \n",
    "#By removing 'images':2, 'javascript':2, the web pages will load \n",
    "#images and javascript normally\"\n",
    "\n",
    "option = webdriver.ChromeOptions()\n",
    "prefs = {'profile.default_content_setting_values': {'images':2, 'javascript':2}}\n",
    "option.add_experimental_option('prefs', prefs)\n",
    "driver = webdriver.Chrome(\"/Users/jhg/chromedriver\", options=option)\n",
    "i=0\n",
    "for url in tqdmn(a_url.Url, leave=False):\n",
    "    i += 1\n",
    "    driver.get(url)\n",
    "    Url_With_Coordinates.append(driver.find_element_by_css_selector('meta[itemprop=image]').get_attribute('content'))\n",
    "\n",
    "    #time delay\n",
    "    if i % 1500 == 0:\n",
    "        time.sleep(180)\n",
    "driver.close()"
   ]
  },
  {
   "cell_type": "code",
   "execution_count": 124,
   "metadata": {},
   "outputs": [],
   "source": [
    "import csv\n",
    "\n",
    "with open('Url_With_Coordinates.csv', 'w') as file:\n",
    "    wr=csv.writer(file)\n",
    "    wr.writerow(Url_With_Coordinates)"
   ]
  },
  {
   "cell_type": "code",
   "execution_count": 126,
   "metadata": {},
   "outputs": [
    {
     "data": {
      "text/html": [
       "<div>\n",
       "<style scoped>\n",
       "    .dataframe tbody tr th:only-of-type {\n",
       "        vertical-align: middle;\n",
       "    }\n",
       "\n",
       "    .dataframe tbody tr th {\n",
       "        vertical-align: top;\n",
       "    }\n",
       "\n",
       "    .dataframe thead th {\n",
       "        text-align: right;\n",
       "    }\n",
       "</style>\n",
       "<table border=\"1\" class=\"dataframe\">\n",
       "  <thead>\n",
       "    <tr style=\"text-align: right;\">\n",
       "      <th></th>\n",
       "      <th>Full Address</th>\n",
       "      <th>Url</th>\n",
       "      <th>Url_C</th>\n",
       "    </tr>\n",
       "  </thead>\n",
       "  <tbody>\n",
       "    <tr>\n",
       "      <th>0</th>\n",
       "      <td>EAST 29TH   STREET 10016</td>\n",
       "      <td>https://www.google.com/maps/search/EAST 29TH  ...</td>\n",
       "      <td>https://maps.google.com/maps/api/staticmap?cen...</td>\n",
       "    </tr>\n",
       "    <tr>\n",
       "      <th>1</th>\n",
       "      <td>264 EAST 7TH   STREET 10009</td>\n",
       "      <td>https://www.google.com/maps/search/264 EAST 7T...</td>\n",
       "      <td>https://maps.google.com/maps/api/staticmap?cen...</td>\n",
       "    </tr>\n",
       "    <tr>\n",
       "      <th>2</th>\n",
       "      <td>21 AVENUE B 10009</td>\n",
       "      <td>https://www.google.com/maps/search/21 AVENUE B...</td>\n",
       "      <td>https://maps.google.com/maps/api/staticmap?cen...</td>\n",
       "    </tr>\n",
       "    <tr>\n",
       "      <th>3</th>\n",
       "      <td>615 EAST 6TH   STREET 10009</td>\n",
       "      <td>https://www.google.com/maps/search/615 EAST 6T...</td>\n",
       "      <td>https://maps.google.com/maps/api/staticmap?cen...</td>\n",
       "    </tr>\n",
       "  </tbody>\n",
       "</table>\n",
       "</div>"
      ],
      "text/plain": [
       "                  Full Address  \\\n",
       "0     EAST 29TH   STREET 10016   \n",
       "1  264 EAST 7TH   STREET 10009   \n",
       "2            21 AVENUE B 10009   \n",
       "3  615 EAST 6TH   STREET 10009   \n",
       "\n",
       "                                                 Url  \\\n",
       "0  https://www.google.com/maps/search/EAST 29TH  ...   \n",
       "1  https://www.google.com/maps/search/264 EAST 7T...   \n",
       "2  https://www.google.com/maps/search/21 AVENUE B...   \n",
       "3  https://www.google.com/maps/search/615 EAST 6T...   \n",
       "\n",
       "                                               Url_C  \n",
       "0  https://maps.google.com/maps/api/staticmap?cen...  \n",
       "1  https://maps.google.com/maps/api/staticmap?cen...  \n",
       "2  https://maps.google.com/maps/api/staticmap?cen...  \n",
       "3  https://maps.google.com/maps/api/staticmap?cen...  "
      ]
     },
     "execution_count": 126,
     "metadata": {},
     "output_type": "execute_result"
    }
   ],
   "source": [
    "a_url.head(4)"
   ]
  }
 ],
 "metadata": {
  "kernelspec": {
   "display_name": "Python 3",
   "language": "python",
   "name": "python3"
  },
  "language_info": {
   "codemirror_mode": {
    "name": "ipython",
    "version": 3
   },
   "file_extension": ".py",
   "mimetype": "text/x-python",
   "name": "python",
   "nbconvert_exporter": "python",
   "pygments_lexer": "ipython3",
   "version": "3.7.6"
  }
 },
 "nbformat": 4,
 "nbformat_minor": 4
}
