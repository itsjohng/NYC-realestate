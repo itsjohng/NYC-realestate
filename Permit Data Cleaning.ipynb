{
 "cells": [
  {
   "cell_type": "markdown",
   "metadata": {},
   "source": [
    "## NYC Permit Data Cleaner Notebook\n",
    "\n",
    "This notebook cleans the NYC permit data, organizes and saves it to a .csv to be joined to other data sets in the 'Master DataFrame' notebook. It follows the same format as the heavily documented 'NYC Crime Data Cleaning' notebook and the 'NYC Sales Data Cleaning' notebook. Contents outlined below.\n",
    "\n",
    "**Notebook Contents**\n",
    "\n",
    "> 1. Read in raw CSV selecting relevant columns, cleaning NaN values. \n",
    "> 2. Convert DATE column to datetime, slice main DataFrame by date and desired Borough\n",
    "> 3. Visualize on map, histogram, and export to CSV."
   ]
  },
  {
   "cell_type": "code",
   "execution_count": 1,
   "metadata": {},
   "outputs": [],
   "source": [
    "import pandas as pd\n",
    "import numpy as np\n",
    "import datetime as dt"
   ]
  },
  {
   "cell_type": "code",
   "execution_count": 77,
   "metadata": {},
   "outputs": [
    {
     "name": "stdout",
     "output_type": "stream",
     "text": [
      "<class 'pandas.core.frame.DataFrame'>\n",
      "RangeIndex: 3667352 entries, 0 to 3667351\n",
      "Data columns (total 5 columns):\n",
      " #   Column       Dtype  \n",
      "---  ------       -----  \n",
      " 0   BOROUGH      object \n",
      " 1   Job Type     object \n",
      " 2   Filing Date  object \n",
      " 3   LATITUDE     float64\n",
      " 4   LONGITUDE    float64\n",
      "dtypes: float64(2), object(3)\n",
      "memory usage: 139.9+ MB\n"
     ]
    }
   ],
   "source": [
    "df = pd.read_csv('./DOB_Permit_Issuance.csv', usecols = ['Filing Date','Job Type','LONGITUDE','LATITUDE','BOROUGH'])\n",
    "df.info()"
   ]
  },
  {
   "cell_type": "code",
   "execution_count": 79,
   "metadata": {},
   "outputs": [],
   "source": [
    "df['Filing Date']=pd.to_datetime(df['Filing Date'])\n"
   ]
  },
  {
   "cell_type": "code",
   "execution_count": 113,
   "metadata": {},
   "outputs": [],
   "source": [
    "sub_df = pd.DataFrame()\n",
    "sub_df = df[(df['Filing Date'].dt.date >= pd.to_datetime('01/01/2014', format ='%m/%d/%Y')) & (df['Filing Date'].dt.date <= pd.to_datetime('12/31/2015', format ='%m/%d/%Y')) & (df['BOROUGH'] == 'MANHATTAN')].copy()"
   ]
  },
  {
   "cell_type": "code",
   "execution_count": 114,
   "metadata": {},
   "outputs": [
    {
     "name": "stdout",
     "output_type": "stream",
     "text": [
      "<class 'pandas.core.frame.DataFrame'>\n",
      "Int64Index: 155400 entries, 5 to 3664552\n",
      "Data columns (total 5 columns):\n",
      " #   Column       Non-Null Count   Dtype         \n",
      "---  ------       --------------   -----         \n",
      " 0   BOROUGH      155400 non-null  object        \n",
      " 1   Job Type     155400 non-null  object        \n",
      " 2   Filing Date  155400 non-null  datetime64[ns]\n",
      " 3   LATITUDE     154980 non-null  float64       \n",
      " 4   LONGITUDE    154980 non-null  float64       \n",
      "dtypes: datetime64[ns](1), float64(2), object(2)\n",
      "memory usage: 7.1+ MB\n"
     ]
    }
   ],
   "source": [
    "sub_df.info()"
   ]
  },
  {
   "cell_type": "code",
   "execution_count": 115,
   "metadata": {},
   "outputs": [],
   "source": [
    "sub_df['Latitude'] = sub_df['LATITUDE']\n",
    "sub_df['Longitude']= sub_df['LONGITUDE']\n",
    "sub_df['DATE'] = sub_df['Filing Date']\n"
   ]
  },
  {
   "cell_type": "code",
   "execution_count": 116,
   "metadata": {},
   "outputs": [],
   "source": [
    "sub_df.dropna(inplace=True)"
   ]
  },
  {
   "cell_type": "code",
   "execution_count": 117,
   "metadata": {},
   "outputs": [],
   "source": [
    "sub_df.drop(['LATITUDE', 'LONGITUDE','Filing Date','BOROUGH'],axis=1, inplace=True)"
   ]
  },
  {
   "cell_type": "code",
   "execution_count": 118,
   "metadata": {},
   "outputs": [
    {
     "name": "stdout",
     "output_type": "stream",
     "text": [
      "<class 'pandas.core.frame.DataFrame'>\n",
      "Int64Index: 154980 entries, 5 to 3664552\n",
      "Data columns (total 4 columns):\n",
      " #   Column     Non-Null Count   Dtype         \n",
      "---  ------     --------------   -----         \n",
      " 0   Job Type   154980 non-null  object        \n",
      " 1   Latitude   154980 non-null  float64       \n",
      " 2   Longitude  154980 non-null  float64       \n",
      " 3   DATE       154980 non-null  datetime64[ns]\n",
      "dtypes: datetime64[ns](1), float64(2), object(1)\n",
      "memory usage: 5.9+ MB\n"
     ]
    }
   ],
   "source": [
    "sub_df.info()"
   ]
  },
  {
   "cell_type": "code",
   "execution_count": 119,
   "metadata": {},
   "outputs": [],
   "source": [
    "permit_df = pd.DataFrame()\n",
    "permit_df = sub_df\n",
    "permit_df = permit_df.join(pd.get_dummies(sub_df['Job Type']))\n",
    "permit_df[['Latitude','Longitude']]=permit_df[['Latitude','Longitude']].round(3)\n",
    "permit_df['Coords'] = list(zip(permit_df.Longitude, permit_df.Latitude))"
   ]
  },
  {
   "cell_type": "code",
   "execution_count": 120,
   "metadata": {},
   "outputs": [
    {
     "name": "stdout",
     "output_type": "stream",
     "text": [
      "<class 'pandas.core.frame.DataFrame'>\n",
      "Int64Index: 154980 entries, 5 to 3664552\n",
      "Data columns (total 11 columns):\n",
      " #   Column     Non-Null Count   Dtype         \n",
      "---  ------     --------------   -----         \n",
      " 0   Job Type   154980 non-null  object        \n",
      " 1   Latitude   154980 non-null  float64       \n",
      " 2   Longitude  154980 non-null  float64       \n",
      " 3   DATE       154980 non-null  datetime64[ns]\n",
      " 4   A1         154980 non-null  uint8         \n",
      " 5   A2         154980 non-null  uint8         \n",
      " 6   A3         154980 non-null  uint8         \n",
      " 7   DM         154980 non-null  uint8         \n",
      " 8   NB         154980 non-null  uint8         \n",
      " 9   SG         154980 non-null  uint8         \n",
      " 10  Coords     154980 non-null  object        \n",
      "dtypes: datetime64[ns](1), float64(2), object(2), uint8(6)\n",
      "memory usage: 13.0+ MB\n"
     ]
    }
   ],
   "source": [
    "permit_df.info()"
   ]
  },
  {
   "cell_type": "code",
   "execution_count": 121,
   "metadata": {},
   "outputs": [],
   "source": [
    "permit_df.drop(['Job Type'], axis = 1, inplace=True)"
   ]
  },
  {
   "cell_type": "code",
   "execution_count": 122,
   "metadata": {},
   "outputs": [
    {
     "name": "stdout",
     "output_type": "stream",
     "text": [
      "<class 'pandas.core.frame.DataFrame'>\n",
      "Int64Index: 154980 entries, 5 to 3664552\n",
      "Data columns (total 10 columns):\n",
      " #   Column     Non-Null Count   Dtype         \n",
      "---  ------     --------------   -----         \n",
      " 0   Latitude   154980 non-null  float64       \n",
      " 1   Longitude  154980 non-null  float64       \n",
      " 2   DATE       154980 non-null  datetime64[ns]\n",
      " 3   A1         154980 non-null  uint8         \n",
      " 4   A2         154980 non-null  uint8         \n",
      " 5   A3         154980 non-null  uint8         \n",
      " 6   DM         154980 non-null  uint8         \n",
      " 7   NB         154980 non-null  uint8         \n",
      " 8   SG         154980 non-null  uint8         \n",
      " 9   Coords     154980 non-null  object        \n",
      "dtypes: datetime64[ns](1), float64(2), object(1), uint8(6)\n",
      "memory usage: 11.8+ MB\n"
     ]
    }
   ],
   "source": [
    "permit_df.info()"
   ]
  },
  {
   "cell_type": "code",
   "execution_count": 123,
   "metadata": {},
   "outputs": [
    {
     "data": {
      "text/html": [
       "<div>\n",
       "<style scoped>\n",
       "    .dataframe tbody tr th:only-of-type {\n",
       "        vertical-align: middle;\n",
       "    }\n",
       "\n",
       "    .dataframe tbody tr th {\n",
       "        vertical-align: top;\n",
       "    }\n",
       "\n",
       "    .dataframe thead th {\n",
       "        text-align: right;\n",
       "    }\n",
       "</style>\n",
       "<table border=\"1\" class=\"dataframe\">\n",
       "  <thead>\n",
       "    <tr style=\"text-align: right;\">\n",
       "      <th></th>\n",
       "      <th>Latitude</th>\n",
       "      <th>Longitude</th>\n",
       "      <th>A1</th>\n",
       "      <th>A2</th>\n",
       "      <th>A3</th>\n",
       "      <th>DM</th>\n",
       "      <th>NB</th>\n",
       "      <th>SG</th>\n",
       "    </tr>\n",
       "  </thead>\n",
       "  <tbody>\n",
       "    <tr>\n",
       "      <th>count</th>\n",
       "      <td>154980.000000</td>\n",
       "      <td>154980.000000</td>\n",
       "      <td>154980.000000</td>\n",
       "      <td>154980.000000</td>\n",
       "      <td>154980.000000</td>\n",
       "      <td>154980.000000</td>\n",
       "      <td>154980.000000</td>\n",
       "      <td>154980.000000</td>\n",
       "    </tr>\n",
       "    <tr>\n",
       "      <th>mean</th>\n",
       "      <td>40.758529</td>\n",
       "      <td>-73.979187</td>\n",
       "      <td>0.039683</td>\n",
       "      <td>0.778591</td>\n",
       "      <td>0.137024</td>\n",
       "      <td>0.006369</td>\n",
       "      <td>0.022267</td>\n",
       "      <td>0.016067</td>\n",
       "    </tr>\n",
       "    <tr>\n",
       "      <th>std</th>\n",
       "      <td>0.032324</td>\n",
       "      <td>0.020204</td>\n",
       "      <td>0.195213</td>\n",
       "      <td>0.415197</td>\n",
       "      <td>0.343874</td>\n",
       "      <td>0.079549</td>\n",
       "      <td>0.147552</td>\n",
       "      <td>0.125732</td>\n",
       "    </tr>\n",
       "    <tr>\n",
       "      <th>min</th>\n",
       "      <td>40.691000</td>\n",
       "      <td>-74.018000</td>\n",
       "      <td>0.000000</td>\n",
       "      <td>0.000000</td>\n",
       "      <td>0.000000</td>\n",
       "      <td>0.000000</td>\n",
       "      <td>0.000000</td>\n",
       "      <td>0.000000</td>\n",
       "    </tr>\n",
       "    <tr>\n",
       "      <th>25%</th>\n",
       "      <td>40.736000</td>\n",
       "      <td>-73.994000</td>\n",
       "      <td>0.000000</td>\n",
       "      <td>1.000000</td>\n",
       "      <td>0.000000</td>\n",
       "      <td>0.000000</td>\n",
       "      <td>0.000000</td>\n",
       "      <td>0.000000</td>\n",
       "    </tr>\n",
       "    <tr>\n",
       "      <th>50%</th>\n",
       "      <td>40.756000</td>\n",
       "      <td>-73.981000</td>\n",
       "      <td>0.000000</td>\n",
       "      <td>1.000000</td>\n",
       "      <td>0.000000</td>\n",
       "      <td>0.000000</td>\n",
       "      <td>0.000000</td>\n",
       "      <td>0.000000</td>\n",
       "    </tr>\n",
       "    <tr>\n",
       "      <th>75%</th>\n",
       "      <td>40.775000</td>\n",
       "      <td>-73.966000</td>\n",
       "      <td>0.000000</td>\n",
       "      <td>1.000000</td>\n",
       "      <td>0.000000</td>\n",
       "      <td>0.000000</td>\n",
       "      <td>0.000000</td>\n",
       "      <td>0.000000</td>\n",
       "    </tr>\n",
       "    <tr>\n",
       "      <th>max</th>\n",
       "      <td>40.877000</td>\n",
       "      <td>-73.908000</td>\n",
       "      <td>1.000000</td>\n",
       "      <td>1.000000</td>\n",
       "      <td>1.000000</td>\n",
       "      <td>1.000000</td>\n",
       "      <td>1.000000</td>\n",
       "      <td>1.000000</td>\n",
       "    </tr>\n",
       "  </tbody>\n",
       "</table>\n",
       "</div>"
      ],
      "text/plain": [
       "            Latitude      Longitude             A1             A2  \\\n",
       "count  154980.000000  154980.000000  154980.000000  154980.000000   \n",
       "mean       40.758529     -73.979187       0.039683       0.778591   \n",
       "std         0.032324       0.020204       0.195213       0.415197   \n",
       "min        40.691000     -74.018000       0.000000       0.000000   \n",
       "25%        40.736000     -73.994000       0.000000       1.000000   \n",
       "50%        40.756000     -73.981000       0.000000       1.000000   \n",
       "75%        40.775000     -73.966000       0.000000       1.000000   \n",
       "max        40.877000     -73.908000       1.000000       1.000000   \n",
       "\n",
       "                  A3             DM             NB             SG  \n",
       "count  154980.000000  154980.000000  154980.000000  154980.000000  \n",
       "mean        0.137024       0.006369       0.022267       0.016067  \n",
       "std         0.343874       0.079549       0.147552       0.125732  \n",
       "min         0.000000       0.000000       0.000000       0.000000  \n",
       "25%         0.000000       0.000000       0.000000       0.000000  \n",
       "50%         0.000000       0.000000       0.000000       0.000000  \n",
       "75%         0.000000       0.000000       0.000000       0.000000  \n",
       "max         1.000000       1.000000       1.000000       1.000000  "
      ]
     },
     "execution_count": 123,
     "metadata": {},
     "output_type": "execute_result"
    }
   ],
   "source": [
    "permit_df.describe()"
   ]
  },
  {
   "cell_type": "code",
   "execution_count": 124,
   "metadata": {},
   "outputs": [],
   "source": [
    "permit_df.to_csv('20142015permit.csv')"
   ]
  },
  {
   "cell_type": "code",
   "execution_count": 109,
   "metadata": {},
   "outputs": [],
   "source": [
    "g_prt_df = pd.DataFrame()\n",
    "g_prt_df = permit_df.groupby(['Coords']).sum()\n",
    "g_prt_df = g_prt_df.reset_index()\n",
    "g_prt_df['Longitude'], g_prt_df['Latitude'] = zip(*g_prt_df.Coords)"
   ]
  },
  {
   "cell_type": "code",
   "execution_count": 110,
   "metadata": {},
   "outputs": [
    {
     "data": {
      "text/html": [
       "<div>\n",
       "<style scoped>\n",
       "    .dataframe tbody tr th:only-of-type {\n",
       "        vertical-align: middle;\n",
       "    }\n",
       "\n",
       "    .dataframe tbody tr th {\n",
       "        vertical-align: top;\n",
       "    }\n",
       "\n",
       "    .dataframe thead th {\n",
       "        text-align: right;\n",
       "    }\n",
       "</style>\n",
       "<table border=\"1\" class=\"dataframe\">\n",
       "  <thead>\n",
       "    <tr style=\"text-align: right;\">\n",
       "      <th></th>\n",
       "      <th>Latitude</th>\n",
       "      <th>Longitude</th>\n",
       "      <th>A1</th>\n",
       "      <th>A2</th>\n",
       "      <th>A3</th>\n",
       "      <th>DM</th>\n",
       "      <th>NB</th>\n",
       "      <th>SG</th>\n",
       "    </tr>\n",
       "  </thead>\n",
       "  <tbody>\n",
       "    <tr>\n",
       "      <th>count</th>\n",
       "      <td>4018.000000</td>\n",
       "      <td>4018.000000</td>\n",
       "      <td>4018.000000</td>\n",
       "      <td>4018.000000</td>\n",
       "      <td>4018.000000</td>\n",
       "      <td>4018.000000</td>\n",
       "      <td>4018.000000</td>\n",
       "      <td>4018.000000</td>\n",
       "    </tr>\n",
       "    <tr>\n",
       "      <th>mean</th>\n",
       "      <td>40.771933</td>\n",
       "      <td>-73.971228</td>\n",
       "      <td>0.900946</td>\n",
       "      <td>15.244898</td>\n",
       "      <td>2.631658</td>\n",
       "      <td>0.142359</td>\n",
       "      <td>0.465406</td>\n",
       "      <td>0.298158</td>\n",
       "    </tr>\n",
       "    <tr>\n",
       "      <th>std</th>\n",
       "      <td>0.041044</td>\n",
       "      <td>0.024209</td>\n",
       "      <td>1.764345</td>\n",
       "      <td>19.839015</td>\n",
       "      <td>3.440481</td>\n",
       "      <td>1.027694</td>\n",
       "      <td>1.693880</td>\n",
       "      <td>1.241832</td>\n",
       "    </tr>\n",
       "    <tr>\n",
       "      <th>min</th>\n",
       "      <td>40.691000</td>\n",
       "      <td>-74.018000</td>\n",
       "      <td>0.000000</td>\n",
       "      <td>0.000000</td>\n",
       "      <td>0.000000</td>\n",
       "      <td>0.000000</td>\n",
       "      <td>0.000000</td>\n",
       "      <td>0.000000</td>\n",
       "    </tr>\n",
       "    <tr>\n",
       "      <th>25%</th>\n",
       "      <td>40.739000</td>\n",
       "      <td>-73.991000</td>\n",
       "      <td>0.000000</td>\n",
       "      <td>3.000000</td>\n",
       "      <td>0.000000</td>\n",
       "      <td>0.000000</td>\n",
       "      <td>0.000000</td>\n",
       "      <td>0.000000</td>\n",
       "    </tr>\n",
       "    <tr>\n",
       "      <th>50%</th>\n",
       "      <td>40.767000</td>\n",
       "      <td>-73.975000</td>\n",
       "      <td>0.000000</td>\n",
       "      <td>9.000000</td>\n",
       "      <td>2.000000</td>\n",
       "      <td>0.000000</td>\n",
       "      <td>0.000000</td>\n",
       "      <td>0.000000</td>\n",
       "    </tr>\n",
       "    <tr>\n",
       "      <th>75%</th>\n",
       "      <td>40.800000</td>\n",
       "      <td>-73.950000</td>\n",
       "      <td>1.000000</td>\n",
       "      <td>19.000000</td>\n",
       "      <td>4.000000</td>\n",
       "      <td>0.000000</td>\n",
       "      <td>0.000000</td>\n",
       "      <td>0.000000</td>\n",
       "    </tr>\n",
       "    <tr>\n",
       "      <th>max</th>\n",
       "      <td>40.877000</td>\n",
       "      <td>-73.908000</td>\n",
       "      <td>17.000000</td>\n",
       "      <td>270.000000</td>\n",
       "      <td>40.000000</td>\n",
       "      <td>24.000000</td>\n",
       "      <td>19.000000</td>\n",
       "      <td>33.000000</td>\n",
       "    </tr>\n",
       "  </tbody>\n",
       "</table>\n",
       "</div>"
      ],
      "text/plain": [
       "          Latitude    Longitude           A1           A2           A3  \\\n",
       "count  4018.000000  4018.000000  4018.000000  4018.000000  4018.000000   \n",
       "mean     40.771933   -73.971228     0.900946    15.244898     2.631658   \n",
       "std       0.041044     0.024209     1.764345    19.839015     3.440481   \n",
       "min      40.691000   -74.018000     0.000000     0.000000     0.000000   \n",
       "25%      40.739000   -73.991000     0.000000     3.000000     0.000000   \n",
       "50%      40.767000   -73.975000     0.000000     9.000000     2.000000   \n",
       "75%      40.800000   -73.950000     1.000000    19.000000     4.000000   \n",
       "max      40.877000   -73.908000    17.000000   270.000000    40.000000   \n",
       "\n",
       "                DM           NB           SG  \n",
       "count  4018.000000  4018.000000  4018.000000  \n",
       "mean      0.142359     0.465406     0.298158  \n",
       "std       1.027694     1.693880     1.241832  \n",
       "min       0.000000     0.000000     0.000000  \n",
       "25%       0.000000     0.000000     0.000000  \n",
       "50%       0.000000     0.000000     0.000000  \n",
       "75%       0.000000     0.000000     0.000000  \n",
       "max      24.000000    19.000000    33.000000  "
      ]
     },
     "execution_count": 110,
     "metadata": {},
     "output_type": "execute_result"
    }
   ],
   "source": [
    "g_prt_df.describe()"
   ]
  },
  {
   "cell_type": "code",
   "execution_count": 111,
   "metadata": {},
   "outputs": [
    {
     "data": {
      "text/html": [
       "\n",
       "        <iframe\n",
       "            width=\"100%\"\n",
       "            height=\"500\"\n",
       "            src=\"nyc_permit.html\"\n",
       "            frameborder=\"0\"\n",
       "            allowfullscreen\n",
       "        ></iframe>\n",
       "        "
      ],
      "text/plain": [
       "<IPython.lib.display.IFrame at 0x7f7eaebe93d0>"
      ]
     },
     "execution_count": 111,
     "metadata": {},
     "output_type": "execute_result"
    }
   ],
   "source": [
    "import folium\n",
    "from IPython.display import IFrame\n",
    "\n",
    "nyc_map = folium.Map([40.78, -73.97], tiles = 'CartoDB positron')\n",
    "\n",
    "for lat, long, in zip(g_prt_df['Latitude'], g_prt_df['Longitude']):\n",
    "\n",
    "    folium.Marker( [lat, long], icon=folium.CustomIcon(icon_image='https://i.imgur.com/CYx04oC.png',\n",
    "                                              icon_size=(10,10))).add_to(nyc_map)\n",
    "\n",
    "nyc_map.save('nyc_permit.html')\n",
    "IFrame(src='nyc_permit.html', width='100%', height=500)"
   ]
  },
  {
   "cell_type": "code",
   "execution_count": null,
   "metadata": {},
   "outputs": [],
   "source": []
  }
 ],
 "metadata": {
  "kernelspec": {
   "display_name": "Python 3",
   "language": "python",
   "name": "python3"
  },
  "language_info": {
   "codemirror_mode": {
    "name": "ipython",
    "version": 3
   },
   "file_extension": ".py",
   "mimetype": "text/x-python",
   "name": "python",
   "nbconvert_exporter": "python",
   "pygments_lexer": "ipython3",
   "version": "3.7.6"
  }
 },
 "nbformat": 4,
 "nbformat_minor": 4
}
