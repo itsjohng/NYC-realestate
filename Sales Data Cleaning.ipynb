{
 "cells": [
  {
   "cell_type": "markdown",
   "metadata": {},
   "source": [
    "## NYC Sales Data Cleaner Notebook\n",
    "\n",
    "This notebook cleans the NYC rolling sales data. Past years can be found  [from NYC Open Data](#https://data.cityofnewyork.us/Public-Safety/NYPD-Complaint-Data-Historic/qgea-i56i), This notebook organizes and saves the data to a .csv to be joined to other data sets in the 'Master DataFrame' notebook. \n",
    "\n",
    "**Notebook Contents**\n",
    "\n",
    "> 1. Read in raw CSV selecting relevant columns. \n",
    "> 2. Join scraped data to this DataFrame, Extract and format it properly\n",
    "> 3. Run zonebuilder function to organize lat/lon values into zones (see function docstring for more info)\n",
    "> 4. Visualize on map, histogram, and export to CSV."
   ]
  },
  {
   "cell_type": "code",
   "execution_count": 68,
   "metadata": {},
   "outputs": [],
   "source": [
    "import pandas as pd\n",
    "import numpy as np\n",
    "import datetime as dt\n",
    "import csv\n",
    "import zonebuilder as zb"
   ]
  },
  {
   "cell_type": "markdown",
   "metadata": {},
   "source": [
    "## 1. Read in CSV\n",
    "\n",
    "The Sales data set has many columns that appear useful but are not. Reason being, many rows have nan values or are generally incomplete.\n",
    "\n",
    "The end target is to either use 'SALE PRICE' or a 'Total Sales' value as my 'y'. \n",
    "\n",
    "Additionally, each year is broken into a seperate CSV for the Sales Data and must be loaded in each time and concatenated. A single year, 2016 is the target for this project, with additional years brought in, time permitting. \n",
    "\n",
    "Finally, an additional CSV file (URL_with_coordinates.csv) is read in from the Scraper notebook. This is the scraped data from google maps. The initial formatting of the Address + Zip Code rows is the input data for the scraper. "
   ]
  },
  {
   "cell_type": "code",
   "execution_count": 89,
   "metadata": {},
   "outputs": [
    {
     "name": "stdout",
     "output_type": "stream",
     "text": [
      "<class 'pandas.core.frame.DataFrame'>\n",
      "RangeIndex: 20486 entries, 0 to 20485\n",
      "Data columns (total 5 columns):\n",
      " #   Column       Non-Null Count  Dtype \n",
      "---  ------       --------------  ----- \n",
      " 0   ADDRESS      20486 non-null  object\n",
      " 1   ZIP CODE     20486 non-null  int64 \n",
      " 2   TOTAL UNITS  20486 non-null  object\n",
      " 3   SALE PRICE   20486 non-null  object\n",
      " 4   DATE         20486 non-null  object\n",
      "dtypes: int64(1), object(4)\n",
      "memory usage: 800.4+ KB\n"
     ]
    }
   ],
   "source": [
    "#import sales manhattan only year 2016, ~20000 rows.\n",
    "df = pd.read_csv('./Sales_Manhattan/sales_manhattan_16.csv',usecols = ['ADDRESS','ZIP CODE', 'TOTAL UNITS','SALE PRICE','SALE DATE'])\n",
    "df['DATE'] = df['SALE DATE']\n",
    "df.drop('SALE DATE', axis = 1 , inplace= True)\n",
    "df.info()"
   ]
  },
  {
   "cell_type": "code",
   "execution_count": 90,
   "metadata": {},
   "outputs": [
    {
     "name": "stdout",
     "output_type": "stream",
     "text": [
      "<class 'pandas.core.frame.DataFrame'>\n",
      "RangeIndex: 11482 entries, 0 to 11481\n",
      "Data columns (total 1 columns):\n",
      " #   Column        Non-Null Count  Dtype \n",
      "---  ------        --------------  ----- \n",
      " 0   Full Address  11482 non-null  object\n",
      "dtypes: object(1)\n",
      "memory usage: 89.8+ KB\n"
     ]
    }
   ],
   "source": [
    "df['ADDRESS'] = df['ADDRESS'].str.strip()\n",
    "df['Full Address'] = df['ADDRESS'].str.cat(df['ZIP CODE'].astype(str), sep = ' ')\n",
    "a_url = pd.DataFrame()\n",
    "a_url['Full Address'] = df['Full Address'].unique()\n",
    "a_url.info()"
   ]
  },
  {
   "cell_type": "code",
   "execution_count": 91,
   "metadata": {},
   "outputs": [],
   "source": [
    "with open('URL_with_Coordinates.csv', 'rt') as file:\n",
    "    cin = csv.reader(file)\n",
    "    urls = [row for row in cin]\n",
    "urls = urls[0]"
   ]
  },
  {
   "cell_type": "code",
   "execution_count": 92,
   "metadata": {},
   "outputs": [],
   "source": [
    "url_df = pd.DataFrame(zip(a_url['Full Address'], urls), columns = ['Full Address', 'urls'])\n"
   ]
  },
  {
   "cell_type": "markdown",
   "metadata": {},
   "source": [
    "## 2. Join Scraped Data, Extract Location Data\n",
    "\n",
    "The data coming from the scraper is a URL that contains the long/lat values. It is extracted here and formatted to join onto other data sets. "
   ]
  },
  {
   "cell_type": "code",
   "execution_count": 105,
   "metadata": {},
   "outputs": [],
   "source": [
    "sales_df = df.join(url_df.set_index('Full Address'), on='Full Address')"
   ]
  },
  {
   "cell_type": "code",
   "execution_count": 106,
   "metadata": {},
   "outputs": [
    {
     "data": {
      "text/html": [
       "<div>\n",
       "<style scoped>\n",
       "    .dataframe tbody tr th:only-of-type {\n",
       "        vertical-align: middle;\n",
       "    }\n",
       "\n",
       "    .dataframe tbody tr th {\n",
       "        vertical-align: top;\n",
       "    }\n",
       "\n",
       "    .dataframe thead th {\n",
       "        text-align: right;\n",
       "    }\n",
       "</style>\n",
       "<table border=\"1\" class=\"dataframe\">\n",
       "  <thead>\n",
       "    <tr style=\"text-align: right;\">\n",
       "      <th></th>\n",
       "      <th>ADDRESS</th>\n",
       "      <th>ZIP CODE</th>\n",
       "      <th>TOTAL UNITS</th>\n",
       "      <th>SALE PRICE</th>\n",
       "      <th>DATE</th>\n",
       "      <th>Full Address</th>\n",
       "      <th>urls</th>\n",
       "    </tr>\n",
       "  </thead>\n",
       "  <tbody>\n",
       "    <tr>\n",
       "      <th>0</th>\n",
       "      <td>EAST 29TH   STREET</td>\n",
       "      <td>10016</td>\n",
       "      <td>-</td>\n",
       "      <td>-</td>\n",
       "      <td>11/9/16</td>\n",
       "      <td>EAST 29TH   STREET 10016</td>\n",
       "      <td>https://maps.google.com/maps/api/staticmap?cen...</td>\n",
       "    </tr>\n",
       "    <tr>\n",
       "      <th>1</th>\n",
       "      <td>264 EAST 7TH   STREET</td>\n",
       "      <td>10009</td>\n",
       "      <td>3</td>\n",
       "      <td>7,738,700</td>\n",
       "      <td>12/22/16</td>\n",
       "      <td>264 EAST 7TH   STREET 10009</td>\n",
       "      <td>https://maps.google.com/maps/api/staticmap?cen...</td>\n",
       "    </tr>\n",
       "    <tr>\n",
       "      <th>2</th>\n",
       "      <td>21 AVENUE B</td>\n",
       "      <td>10009</td>\n",
       "      <td>16</td>\n",
       "      <td>-</td>\n",
       "      <td>3/10/16</td>\n",
       "      <td>21 AVENUE B 10009</td>\n",
       "      <td>https://maps.google.com/maps/api/staticmap?cen...</td>\n",
       "    </tr>\n",
       "  </tbody>\n",
       "</table>\n",
       "</div>"
      ],
      "text/plain": [
       "                 ADDRESS  ZIP CODE TOTAL UNITS   SALE PRICE      DATE  \\\n",
       "0     EAST 29TH   STREET     10016        -            -      11/9/16   \n",
       "1  264 EAST 7TH   STREET     10009          3    7,738,700   12/22/16   \n",
       "2            21 AVENUE B     10009         16          -      3/10/16   \n",
       "\n",
       "                  Full Address  \\\n",
       "0     EAST 29TH   STREET 10016   \n",
       "1  264 EAST 7TH   STREET 10009   \n",
       "2            21 AVENUE B 10009   \n",
       "\n",
       "                                                urls  \n",
       "0  https://maps.google.com/maps/api/staticmap?cen...  \n",
       "1  https://maps.google.com/maps/api/staticmap?cen...  \n",
       "2  https://maps.google.com/maps/api/staticmap?cen...  "
      ]
     },
     "execution_count": 106,
     "metadata": {},
     "output_type": "execute_result"
    }
   ],
   "source": [
    "sales_df.head(3)"
   ]
  },
  {
   "cell_type": "code",
   "execution_count": 107,
   "metadata": {},
   "outputs": [],
   "source": [
    "#Kick out urls that didn't work. ~5\n",
    "sales_df = sales_df[sales_df.urls.str.contains('&zoom=')].copy()"
   ]
  },
  {
   "cell_type": "code",
   "execution_count": 108,
   "metadata": {
    "scrolled": true
   },
   "outputs": [
    {
     "data": {
      "text/plain": [
       "[]"
      ]
     },
     "execution_count": 108,
     "metadata": {},
     "output_type": "execute_result"
    }
   ],
   "source": [
    "#confirm no outliers.\n",
    "list(sales_df[~sales_df.urls.str.contains('&zoom=')].urls)"
   ]
  },
  {
   "cell_type": "code",
   "execution_count": 109,
   "metadata": {
    "scrolled": true
   },
   "outputs": [],
   "source": [
    "#extract latitude from url\n",
    "sales_df['lat'] = [ url.split('?center=')[1].split('&zoom=')[0].split('%2C')[0] for url in sales_df['urls'] ]"
   ]
  },
  {
   "cell_type": "code",
   "execution_count": 110,
   "metadata": {},
   "outputs": [],
   "source": [
    "#extract longitude from url\n",
    "sales_df['long'] = [url.split('?center=')[1].split('&zoom=')[0].split('%2C')[1] for url in sales_df['urls'] ]"
   ]
  },
  {
   "cell_type": "markdown",
   "metadata": {},
   "source": [
    "## 3. Format Data for Join and Map Visualization\n",
    "\n",
    "Format the Coordinates column to match other data sets for eventual join.\n"
   ]
  },
  {
   "cell_type": "code",
   "execution_count": 118,
   "metadata": {
    "scrolled": true
   },
   "outputs": [
    {
     "data": {
      "text/html": [
       "<div>\n",
       "<style scoped>\n",
       "    .dataframe tbody tr th:only-of-type {\n",
       "        vertical-align: middle;\n",
       "    }\n",
       "\n",
       "    .dataframe tbody tr th {\n",
       "        vertical-align: top;\n",
       "    }\n",
       "\n",
       "    .dataframe thead th {\n",
       "        text-align: right;\n",
       "    }\n",
       "</style>\n",
       "<table border=\"1\" class=\"dataframe\">\n",
       "  <thead>\n",
       "    <tr style=\"text-align: right;\">\n",
       "      <th></th>\n",
       "      <th>ADDRESS</th>\n",
       "      <th>ZIP CODE</th>\n",
       "      <th>TOTAL UNITS</th>\n",
       "      <th>SALE PRICE</th>\n",
       "      <th>DATE</th>\n",
       "      <th>Latitude</th>\n",
       "      <th>Longitude</th>\n",
       "      <th>Coords</th>\n",
       "    </tr>\n",
       "  </thead>\n",
       "  <tbody>\n",
       "    <tr>\n",
       "      <th>0</th>\n",
       "      <td>EAST 29TH   STREET</td>\n",
       "      <td>10016</td>\n",
       "      <td>-</td>\n",
       "      <td>-</td>\n",
       "      <td>11/9/16</td>\n",
       "      <td>40.743</td>\n",
       "      <td>-73.980</td>\n",
       "      <td>(-73.98, 40.743)</td>\n",
       "    </tr>\n",
       "    <tr>\n",
       "      <th>1</th>\n",
       "      <td>264 EAST 7TH   STREET</td>\n",
       "      <td>10009</td>\n",
       "      <td>3</td>\n",
       "      <td>7,738,700</td>\n",
       "      <td>12/22/16</td>\n",
       "      <td>40.723</td>\n",
       "      <td>-73.978</td>\n",
       "      <td>(-73.978, 40.723)</td>\n",
       "    </tr>\n",
       "    <tr>\n",
       "      <th>2</th>\n",
       "      <td>21 AVENUE B</td>\n",
       "      <td>10009</td>\n",
       "      <td>16</td>\n",
       "      <td>-</td>\n",
       "      <td>3/10/16</td>\n",
       "      <td>40.722</td>\n",
       "      <td>-73.983</td>\n",
       "      <td>(-73.983, 40.722)</td>\n",
       "    </tr>\n",
       "    <tr>\n",
       "      <th>3</th>\n",
       "      <td>615 EAST 6TH   STREET</td>\n",
       "      <td>10009</td>\n",
       "      <td>10</td>\n",
       "      <td>6,350,000</td>\n",
       "      <td>4/20/16</td>\n",
       "      <td>40.724</td>\n",
       "      <td>-73.981</td>\n",
       "      <td>(-73.981, 40.724)</td>\n",
       "    </tr>\n",
       "    <tr>\n",
       "      <th>4</th>\n",
       "      <td>234 EAST 4TH   STREET</td>\n",
       "      <td>10009</td>\n",
       "      <td>31</td>\n",
       "      <td>-</td>\n",
       "      <td>12/14/16</td>\n",
       "      <td>40.723</td>\n",
       "      <td>-73.983</td>\n",
       "      <td>(-73.983, 40.723)</td>\n",
       "    </tr>\n",
       "  </tbody>\n",
       "</table>\n",
       "</div>"
      ],
      "text/plain": [
       "                 ADDRESS  ZIP CODE TOTAL UNITS   SALE PRICE      DATE  \\\n",
       "0     EAST 29TH   STREET     10016        -            -      11/9/16   \n",
       "1  264 EAST 7TH   STREET     10009          3    7,738,700   12/22/16   \n",
       "2            21 AVENUE B     10009         16          -      3/10/16   \n",
       "3  615 EAST 6TH   STREET     10009         10    6,350,000    4/20/16   \n",
       "4  234 EAST 4TH   STREET     10009         31          -     12/14/16   \n",
       "\n",
       "   Latitude  Longitude             Coords  \n",
       "0    40.743    -73.980   (-73.98, 40.743)  \n",
       "1    40.723    -73.978  (-73.978, 40.723)  \n",
       "2    40.722    -73.983  (-73.983, 40.722)  \n",
       "3    40.724    -73.981  (-73.981, 40.724)  \n",
       "4    40.723    -73.983  (-73.983, 40.723)  "
      ]
     },
     "execution_count": 118,
     "metadata": {},
     "output_type": "execute_result"
    }
   ],
   "source": [
    "#combine long/lat under a single column, drop intermediate cols to get location data\n",
    "sales_df['Latitude']=sales_df['lat'].astype(float).round(3)\n",
    "sales_df['Longitude']=sales_df['long'].astype(float).round(3)\n",
    "sales_df['Coords'] = list(zip(sales_df.Longitude, sales_df.Latitude))\n",
    "sales_df.drop(['lat','long','Full Address', 'urls'], axis=1, inplace=True)\n",
    "sales_df.head()"
   ]
  },
  {
   "cell_type": "code",
   "execution_count": 175,
   "metadata": {},
   "outputs": [
    {
     "name": "stdout",
     "output_type": "stream",
     "text": [
      "<class 'pandas.core.frame.DataFrame'>\n",
      "Int64Index: 20479 entries, 0 to 20485\n",
      "Data columns (total 8 columns):\n",
      " #   Column       Non-Null Count  Dtype         \n",
      "---  ------       --------------  -----         \n",
      " 0   ADDRESS      20479 non-null  object        \n",
      " 1   ZIP CODE     20479 non-null  int64         \n",
      " 2   TOTAL UNITS  20479 non-null  float64       \n",
      " 3   SALE PRICE   20479 non-null  float64       \n",
      " 4   DATE         20479 non-null  datetime64[ns]\n",
      " 5   Latitude     20479 non-null  float64       \n",
      " 6   Longitude    20479 non-null  float64       \n",
      " 7   Coords       20479 non-null  object        \n",
      "dtypes: datetime64[ns](1), float64(4), int64(1), object(2)\n",
      "memory usage: 2.0+ MB\n"
     ]
    }
   ],
   "source": [
    "sales_df.info()"
   ]
  },
  {
   "cell_type": "code",
   "execution_count": 178,
   "metadata": {},
   "outputs": [],
   "source": [
    "mask = (sales_df.Latitude > 42) | (sales_df.Latitude < 40) | (sales_df.Longitude > -73) | (sales_df.Longitude < -75)"
   ]
  },
  {
   "cell_type": "code",
   "execution_count": 193,
   "metadata": {},
   "outputs": [
    {
     "name": "stdout",
     "output_type": "stream",
     "text": [
      "<class 'pandas.core.frame.DataFrame'>\n",
      "Int64Index: 20460 entries, 0 to 20485\n",
      "Data columns (total 8 columns):\n",
      " #   Column       Non-Null Count  Dtype         \n",
      "---  ------       --------------  -----         \n",
      " 0   ADDRESS      20460 non-null  object        \n",
      " 1   ZIP CODE     20460 non-null  float64       \n",
      " 2   TOTAL UNITS  20460 non-null  float64       \n",
      " 3   SALE PRICE   20460 non-null  float64       \n",
      " 4   DATE         20460 non-null  datetime64[ns]\n",
      " 5   Latitude     20460 non-null  float64       \n",
      " 6   Longitude    20460 non-null  float64       \n",
      " 7   Coords       20460 non-null  object        \n",
      "dtypes: datetime64[ns](1), float64(5), object(2)\n",
      "memory usage: 1.4+ MB\n"
     ]
    }
   ],
   "source": [
    "sales_df = sales_df.mask(mask).copy()\n",
    "sales_df.dropna(inplace=True)\n",
    "sales_df.info()"
   ]
  },
  {
   "cell_type": "code",
   "execution_count": 194,
   "metadata": {},
   "outputs": [
    {
     "name": "stderr",
     "output_type": "stream",
     "text": [
      "/Users/jhg/opt/anaconda3/lib/python3.7/site-packages/ipykernel_launcher.py:1: UserWarning: Boolean Series key will be reindexed to match DataFrame index.\n",
      "  \"\"\"Entry point for launching an IPython kernel.\n"
     ]
    },
    {
     "data": {
      "text/html": [
       "<div>\n",
       "<style scoped>\n",
       "    .dataframe tbody tr th:only-of-type {\n",
       "        vertical-align: middle;\n",
       "    }\n",
       "\n",
       "    .dataframe tbody tr th {\n",
       "        vertical-align: top;\n",
       "    }\n",
       "\n",
       "    .dataframe thead th {\n",
       "        text-align: right;\n",
       "    }\n",
       "</style>\n",
       "<table border=\"1\" class=\"dataframe\">\n",
       "  <thead>\n",
       "    <tr style=\"text-align: right;\">\n",
       "      <th></th>\n",
       "      <th>ADDRESS</th>\n",
       "      <th>ZIP CODE</th>\n",
       "      <th>TOTAL UNITS</th>\n",
       "      <th>SALE PRICE</th>\n",
       "      <th>DATE</th>\n",
       "      <th>Latitude</th>\n",
       "      <th>Longitude</th>\n",
       "      <th>Coords</th>\n",
       "    </tr>\n",
       "  </thead>\n",
       "  <tbody>\n",
       "  </tbody>\n",
       "</table>\n",
       "</div>"
      ],
      "text/plain": [
       "Empty DataFrame\n",
       "Columns: [ADDRESS, ZIP CODE, TOTAL UNITS, SALE PRICE, DATE, Latitude, Longitude, Coords]\n",
       "Index: []"
      ]
     },
     "execution_count": 194,
     "metadata": {},
     "output_type": "execute_result"
    }
   ],
   "source": []
  },
  {
   "cell_type": "code",
   "execution_count": 195,
   "metadata": {
    "scrolled": true
   },
   "outputs": [
    {
     "data": {
      "text/html": [
       "<div>\n",
       "<style scoped>\n",
       "    .dataframe tbody tr th:only-of-type {\n",
       "        vertical-align: middle;\n",
       "    }\n",
       "\n",
       "    .dataframe tbody tr th {\n",
       "        vertical-align: top;\n",
       "    }\n",
       "\n",
       "    .dataframe thead th {\n",
       "        text-align: right;\n",
       "    }\n",
       "</style>\n",
       "<table border=\"1\" class=\"dataframe\">\n",
       "  <thead>\n",
       "    <tr style=\"text-align: right;\">\n",
       "      <th></th>\n",
       "      <th>ADDRESS</th>\n",
       "      <th>ZIP CODE</th>\n",
       "      <th>TOTAL UNITS</th>\n",
       "      <th>SALE PRICE</th>\n",
       "      <th>DATE</th>\n",
       "      <th>Latitude</th>\n",
       "      <th>Longitude</th>\n",
       "      <th>Coords</th>\n",
       "    </tr>\n",
       "  </thead>\n",
       "  <tbody>\n",
       "    <tr>\n",
       "      <th>0</th>\n",
       "      <td>EAST 29TH   STREET</td>\n",
       "      <td>10016.0</td>\n",
       "      <td>0.0</td>\n",
       "      <td>0.0</td>\n",
       "      <td>2016-11-09</td>\n",
       "      <td>40.743</td>\n",
       "      <td>-73.980</td>\n",
       "      <td>(-73.98, 40.743)</td>\n",
       "    </tr>\n",
       "    <tr>\n",
       "      <th>1</th>\n",
       "      <td>264 EAST 7TH   STREET</td>\n",
       "      <td>10009.0</td>\n",
       "      <td>3.0</td>\n",
       "      <td>7738700.0</td>\n",
       "      <td>2016-12-22</td>\n",
       "      <td>40.723</td>\n",
       "      <td>-73.978</td>\n",
       "      <td>(-73.978, 40.723)</td>\n",
       "    </tr>\n",
       "    <tr>\n",
       "      <th>2</th>\n",
       "      <td>21 AVENUE B</td>\n",
       "      <td>10009.0</td>\n",
       "      <td>16.0</td>\n",
       "      <td>0.0</td>\n",
       "      <td>2016-03-10</td>\n",
       "      <td>40.722</td>\n",
       "      <td>-73.983</td>\n",
       "      <td>(-73.983, 40.722)</td>\n",
       "    </tr>\n",
       "    <tr>\n",
       "      <th>3</th>\n",
       "      <td>615 EAST 6TH   STREET</td>\n",
       "      <td>10009.0</td>\n",
       "      <td>10.0</td>\n",
       "      <td>6350000.0</td>\n",
       "      <td>2016-04-20</td>\n",
       "      <td>40.724</td>\n",
       "      <td>-73.981</td>\n",
       "      <td>(-73.981, 40.724)</td>\n",
       "    </tr>\n",
       "    <tr>\n",
       "      <th>4</th>\n",
       "      <td>234 EAST 4TH   STREET</td>\n",
       "      <td>10009.0</td>\n",
       "      <td>31.0</td>\n",
       "      <td>0.0</td>\n",
       "      <td>2016-12-14</td>\n",
       "      <td>40.723</td>\n",
       "      <td>-73.983</td>\n",
       "      <td>(-73.983, 40.723)</td>\n",
       "    </tr>\n",
       "  </tbody>\n",
       "</table>\n",
       "</div>"
      ],
      "text/plain": [
       "                 ADDRESS  ZIP CODE  TOTAL UNITS  SALE PRICE       DATE  \\\n",
       "0     EAST 29TH   STREET   10016.0          0.0         0.0 2016-11-09   \n",
       "1  264 EAST 7TH   STREET   10009.0          3.0   7738700.0 2016-12-22   \n",
       "2            21 AVENUE B   10009.0         16.0         0.0 2016-03-10   \n",
       "3  615 EAST 6TH   STREET   10009.0         10.0   6350000.0 2016-04-20   \n",
       "4  234 EAST 4TH   STREET   10009.0         31.0         0.0 2016-12-14   \n",
       "\n",
       "   Latitude  Longitude             Coords  \n",
       "0    40.743    -73.980   (-73.98, 40.743)  \n",
       "1    40.723    -73.978  (-73.978, 40.723)  \n",
       "2    40.722    -73.983  (-73.983, 40.722)  \n",
       "3    40.724    -73.981  (-73.981, 40.724)  \n",
       "4    40.723    -73.983  (-73.983, 40.723)  "
      ]
     },
     "execution_count": 195,
     "metadata": {},
     "output_type": "execute_result"
    }
   ],
   "source": [
    "sales_df['SALE PRICE'] = sales_df['SALE PRICE'].replace(',','', regex=True)\n",
    "sales_df['TOTAL UNITS'] = sales_df['TOTAL UNITS'].replace(',','', regex=True)\n",
    "sales_df['SALE PRICE'] = sales_df['SALE PRICE'].replace('-','0', regex=True)\n",
    "sales_df['TOTAL UNITS'] = sales_df['TOTAL UNITS'].replace('-','0', regex=True)\n",
    "sales_df['SALE PRICE'] = sales_df['SALE PRICE'].astype(float)\n",
    "sales_df['TOTAL UNITS'] = sales_df['TOTAL UNITS'].astype(float)\n",
    "sales_df.head()"
   ]
  },
  {
   "cell_type": "code",
   "execution_count": 196,
   "metadata": {},
   "outputs": [],
   "source": [
    "sales_df['DATE']=pd.to_datetime(df['DATE'])"
   ]
  },
  {
   "cell_type": "code",
   "execution_count": 205,
   "metadata": {},
   "outputs": [
    {
     "data": {
      "text/html": [
       "<div>\n",
       "<style scoped>\n",
       "    .dataframe tbody tr th:only-of-type {\n",
       "        vertical-align: middle;\n",
       "    }\n",
       "\n",
       "    .dataframe tbody tr th {\n",
       "        vertical-align: top;\n",
       "    }\n",
       "\n",
       "    .dataframe thead th {\n",
       "        text-align: right;\n",
       "    }\n",
       "</style>\n",
       "<table border=\"1\" class=\"dataframe\">\n",
       "  <thead>\n",
       "    <tr style=\"text-align: right;\">\n",
       "      <th></th>\n",
       "      <th>ADDRESS</th>\n",
       "      <th>ZIP CODE</th>\n",
       "      <th>TOTAL UNITS</th>\n",
       "      <th>SALE PRICE</th>\n",
       "      <th>DATE</th>\n",
       "      <th>Latitude</th>\n",
       "      <th>Longitude</th>\n",
       "      <th>Coords</th>\n",
       "      <th>SALE COUNT</th>\n",
       "    </tr>\n",
       "  </thead>\n",
       "  <tbody>\n",
       "    <tr>\n",
       "      <th>0</th>\n",
       "      <td>EAST 29TH   STREET</td>\n",
       "      <td>10016.0</td>\n",
       "      <td>0.0</td>\n",
       "      <td>0.0</td>\n",
       "      <td>2016-11-09</td>\n",
       "      <td>40.743</td>\n",
       "      <td>-73.980</td>\n",
       "      <td>(-73.98, 40.743)</td>\n",
       "      <td>1</td>\n",
       "    </tr>\n",
       "    <tr>\n",
       "      <th>1</th>\n",
       "      <td>264 EAST 7TH   STREET</td>\n",
       "      <td>10009.0</td>\n",
       "      <td>3.0</td>\n",
       "      <td>7738700.0</td>\n",
       "      <td>2016-12-22</td>\n",
       "      <td>40.723</td>\n",
       "      <td>-73.978</td>\n",
       "      <td>(-73.978, 40.723)</td>\n",
       "      <td>1</td>\n",
       "    </tr>\n",
       "    <tr>\n",
       "      <th>2</th>\n",
       "      <td>21 AVENUE B</td>\n",
       "      <td>10009.0</td>\n",
       "      <td>16.0</td>\n",
       "      <td>0.0</td>\n",
       "      <td>2016-03-10</td>\n",
       "      <td>40.722</td>\n",
       "      <td>-73.983</td>\n",
       "      <td>(-73.983, 40.722)</td>\n",
       "      <td>1</td>\n",
       "    </tr>\n",
       "    <tr>\n",
       "      <th>3</th>\n",
       "      <td>615 EAST 6TH   STREET</td>\n",
       "      <td>10009.0</td>\n",
       "      <td>10.0</td>\n",
       "      <td>6350000.0</td>\n",
       "      <td>2016-04-20</td>\n",
       "      <td>40.724</td>\n",
       "      <td>-73.981</td>\n",
       "      <td>(-73.981, 40.724)</td>\n",
       "      <td>1</td>\n",
       "    </tr>\n",
       "    <tr>\n",
       "      <th>4</th>\n",
       "      <td>234 EAST 4TH   STREET</td>\n",
       "      <td>10009.0</td>\n",
       "      <td>31.0</td>\n",
       "      <td>0.0</td>\n",
       "      <td>2016-12-14</td>\n",
       "      <td>40.723</td>\n",
       "      <td>-73.983</td>\n",
       "      <td>(-73.983, 40.723)</td>\n",
       "      <td>1</td>\n",
       "    </tr>\n",
       "  </tbody>\n",
       "</table>\n",
       "</div>"
      ],
      "text/plain": [
       "                 ADDRESS  ZIP CODE  TOTAL UNITS  SALE PRICE       DATE  \\\n",
       "0     EAST 29TH   STREET   10016.0          0.0         0.0 2016-11-09   \n",
       "1  264 EAST 7TH   STREET   10009.0          3.0   7738700.0 2016-12-22   \n",
       "2            21 AVENUE B   10009.0         16.0         0.0 2016-03-10   \n",
       "3  615 EAST 6TH   STREET   10009.0         10.0   6350000.0 2016-04-20   \n",
       "4  234 EAST 4TH   STREET   10009.0         31.0         0.0 2016-12-14   \n",
       "\n",
       "   Latitude  Longitude             Coords  SALE COUNT  \n",
       "0    40.743    -73.980   (-73.98, 40.743)           1  \n",
       "1    40.723    -73.978  (-73.978, 40.723)           1  \n",
       "2    40.722    -73.983  (-73.983, 40.722)           1  \n",
       "3    40.724    -73.981  (-73.981, 40.724)           1  \n",
       "4    40.723    -73.983  (-73.983, 40.723)           1  "
      ]
     },
     "execution_count": 205,
     "metadata": {},
     "output_type": "execute_result"
    }
   ],
   "source": [
    "sales_df['SALE COUNT'] = 1"
   ]
  },
  {
   "cell_type": "code",
   "execution_count": 209,
   "metadata": {},
   "outputs": [
    {
     "name": "stdout",
     "output_type": "stream",
     "text": [
      "<class 'pandas.core.frame.DataFrame'>\n",
      "Int64Index: 20460 entries, 0 to 20485\n",
      "Data columns (total 9 columns):\n",
      " #   Column       Non-Null Count  Dtype         \n",
      "---  ------       --------------  -----         \n",
      " 0   ADDRESS      20460 non-null  object        \n",
      " 1   ZIP CODE     20460 non-null  float64       \n",
      " 2   TOTAL UNITS  20460 non-null  float64       \n",
      " 3   SALE PRICE   20460 non-null  float64       \n",
      " 4   DATE         20460 non-null  datetime64[ns]\n",
      " 5   Latitude     20460 non-null  float64       \n",
      " 6   Longitude    20460 non-null  float64       \n",
      " 7   Coords       20460 non-null  object        \n",
      " 8   SALE COUNT   20460 non-null  int64         \n",
      "dtypes: datetime64[ns](1), float64(5), int64(1), object(2)\n",
      "memory usage: 1.6+ MB\n"
     ]
    }
   ],
   "source": [
    "sales_df.info()"
   ]
  },
  {
   "cell_type": "code",
   "execution_count": null,
   "metadata": {},
   "outputs": [],
   "source": []
  },
  {
   "cell_type": "markdown",
   "metadata": {},
   "source": [
    "## 4. Mapping Data\n",
    "\n",
    "The binning process has been modified from a script written to create a grid of 'zones' over Manhattan (zonebuilder.py in project folder), to a much quicker and more generalized approach of simply rounding down the lat/lon numbers to the nearest thousandth.\n",
    "\n",
    "This creates a 'grid' of approximately 365.23FT East/West and 276.94FT North/South that all data points will fall into.\n",
    "\n",
    "The reasoning for this came about by looking at a map of the values plotted  on the crime data set and noticing an emergent grid for each block. It looks like corner/mid block are hard coded 'options' when a police officer is logging a complaint. So despite the apparent high degree of precision seen in the DataFrame, there is a subset of unique combinations.\n",
    "\n",
    "see raw plot below (data straight onto a map) + modified set to generalize across data sets (long/lat rounded to 3 decimal points)"
   ]
  },
  {
   "cell_type": "code",
   "execution_count": 206,
   "metadata": {},
   "outputs": [],
   "source": [
    "sales_df.to_csv('2016sales.csv')"
   ]
  },
  {
   "cell_type": "code",
   "execution_count": 197,
   "metadata": {},
   "outputs": [
    {
     "data": {
      "text/html": [
       "<div>\n",
       "<style scoped>\n",
       "    .dataframe tbody tr th:only-of-type {\n",
       "        vertical-align: middle;\n",
       "    }\n",
       "\n",
       "    .dataframe tbody tr th {\n",
       "        vertical-align: top;\n",
       "    }\n",
       "\n",
       "    .dataframe thead th {\n",
       "        text-align: right;\n",
       "    }\n",
       "</style>\n",
       "<table border=\"1\" class=\"dataframe\">\n",
       "  <thead>\n",
       "    <tr style=\"text-align: right;\">\n",
       "      <th></th>\n",
       "      <th>ZIP CODE</th>\n",
       "      <th>TOTAL UNITS</th>\n",
       "      <th>SALE PRICE</th>\n",
       "      <th>Latitude</th>\n",
       "      <th>Longitude</th>\n",
       "    </tr>\n",
       "  </thead>\n",
       "  <tbody>\n",
       "    <tr>\n",
       "      <th>count</th>\n",
       "      <td>20460.000000</td>\n",
       "      <td>20460.000000</td>\n",
       "      <td>2.046000e+04</td>\n",
       "      <td>20460.000000</td>\n",
       "      <td>20460.000000</td>\n",
       "    </tr>\n",
       "    <tr>\n",
       "      <th>mean</th>\n",
       "      <td>9959.493011</td>\n",
       "      <td>2.762512</td>\n",
       "      <td>2.930787e+06</td>\n",
       "      <td>40.762227</td>\n",
       "      <td>-73.976637</td>\n",
       "    </tr>\n",
       "    <tr>\n",
       "      <th>std</th>\n",
       "      <td>836.412698</td>\n",
       "      <td>25.726442</td>\n",
       "      <td>2.644802e+07</td>\n",
       "      <td>0.030731</td>\n",
       "      <td>0.019822</td>\n",
       "    </tr>\n",
       "    <tr>\n",
       "      <th>min</th>\n",
       "      <td>0.000000</td>\n",
       "      <td>0.000000</td>\n",
       "      <td>0.000000e+00</td>\n",
       "      <td>40.697000</td>\n",
       "      <td>-74.018000</td>\n",
       "    </tr>\n",
       "    <tr>\n",
       "      <th>25%</th>\n",
       "      <td>10013.000000</td>\n",
       "      <td>0.000000</td>\n",
       "      <td>4.714775e+04</td>\n",
       "      <td>40.741000</td>\n",
       "      <td>-73.990000</td>\n",
       "    </tr>\n",
       "    <tr>\n",
       "      <th>50%</th>\n",
       "      <td>10019.000000</td>\n",
       "      <td>1.000000</td>\n",
       "      <td>7.150000e+05</td>\n",
       "      <td>40.762000</td>\n",
       "      <td>-73.979000</td>\n",
       "    </tr>\n",
       "    <tr>\n",
       "      <th>75%</th>\n",
       "      <td>10027.000000</td>\n",
       "      <td>1.000000</td>\n",
       "      <td>1.750000e+06</td>\n",
       "      <td>40.778000</td>\n",
       "      <td>-73.962000</td>\n",
       "    </tr>\n",
       "    <tr>\n",
       "      <th>max</th>\n",
       "      <td>10463.000000</td>\n",
       "      <td>1653.000000</td>\n",
       "      <td>1.932900e+09</td>\n",
       "      <td>40.878000</td>\n",
       "      <td>-73.909000</td>\n",
       "    </tr>\n",
       "  </tbody>\n",
       "</table>\n",
       "</div>"
      ],
      "text/plain": [
       "           ZIP CODE   TOTAL UNITS    SALE PRICE      Latitude     Longitude\n",
       "count  20460.000000  20460.000000  2.046000e+04  20460.000000  20460.000000\n",
       "mean    9959.493011      2.762512  2.930787e+06     40.762227    -73.976637\n",
       "std      836.412698     25.726442  2.644802e+07      0.030731      0.019822\n",
       "min        0.000000      0.000000  0.000000e+00     40.697000    -74.018000\n",
       "25%    10013.000000      0.000000  4.714775e+04     40.741000    -73.990000\n",
       "50%    10019.000000      1.000000  7.150000e+05     40.762000    -73.979000\n",
       "75%    10027.000000      1.000000  1.750000e+06     40.778000    -73.962000\n",
       "max    10463.000000   1653.000000  1.932900e+09     40.878000    -73.909000"
      ]
     },
     "execution_count": 197,
     "metadata": {},
     "output_type": "execute_result"
    }
   ],
   "source": [
    "sales_df.describe()"
   ]
  },
  {
   "cell_type": "code",
   "execution_count": 198,
   "metadata": {},
   "outputs": [],
   "source": [
    "g_rnd_df = pd.DataFrame()\n",
    "g_rnd_df = sales_df.groupby(['Coords']).sum()\n",
    "g_rnd_df = g_rnd_df.reset_index()\n",
    "g_rnd_df['Longitude'], g_rnd_df['Latitude'] = zip(*g_rnd_df.Coords)"
   ]
  },
  {
   "cell_type": "code",
   "execution_count": 208,
   "metadata": {},
   "outputs": [
    {
     "data": {
      "text/plain": [
       "0.0           201\n",
       "18000000.0      9\n",
       "2000000.0       7\n",
       "2100000.0       6\n",
       "10.0            6\n",
       "             ... \n",
       "14527000.0      1\n",
       "57059500.0      1\n",
       "4511000.0       1\n",
       "4740388.0       1\n",
       "21037550.0      1\n",
       "Name: SALE PRICE, Length: 2191, dtype: int64"
      ]
     },
     "execution_count": 208,
     "metadata": {},
     "output_type": "execute_result"
    }
   ],
   "source": [
    "g_rnd_df['SALE PRICE'].value_counts()"
   ]
  },
  {
   "cell_type": "code",
   "execution_count": 200,
   "metadata": {},
   "outputs": [
    {
     "data": {
      "text/html": [
       "\n",
       "        <iframe\n",
       "            width=\"100%\"\n",
       "            height=\"500\"\n",
       "            src=\"nyc_crime.html\"\n",
       "            frameborder=\"0\"\n",
       "            allowfullscreen\n",
       "        ></iframe>\n",
       "        "
      ],
      "text/plain": [
       "<IPython.lib.display.IFrame at 0x7fba53057f50>"
      ]
     },
     "execution_count": 200,
     "metadata": {},
     "output_type": "execute_result"
    }
   ],
   "source": [
    "import folium\n",
    "from IPython.display import IFrame\n",
    "\n",
    "nyc_map = folium.Map([40.78, -73.97], tiles = 'CartoDB positron')\n",
    "\n",
    "for lat, long, sale in zip(g_rnd_df['Latitude'], g_rnd_df['Longitude'], \n",
    "                                         g_rnd_df['SALE PRICE']):\n",
    "\n",
    "    folium.Marker( [lat, long], \n",
    "                       icon=folium.CustomIcon(icon_image='https://i.imgur.com/CYx04oC.png',\n",
    "                                              icon_size=(10,10) ), popup='Sales '+str(sale)).add_to(nyc_map)\n",
    "\n",
    "nyc_map.save('nyc_crime.html')\n",
    "IFrame(src='nyc_crime.html', width='100%', height=500)"
   ]
  },
  {
   "cell_type": "code",
   "execution_count": null,
   "metadata": {},
   "outputs": [],
   "source": []
  }
 ],
 "metadata": {
  "kernelspec": {
   "display_name": "Python 3",
   "language": "python",
   "name": "python3"
  },
  "language_info": {
   "codemirror_mode": {
    "name": "ipython",
    "version": 3
   },
   "file_extension": ".py",
   "mimetype": "text/x-python",
   "name": "python",
   "nbconvert_exporter": "python",
   "pygments_lexer": "ipython3",
   "version": "3.7.6"
  }
 },
 "nbformat": 4,
 "nbformat_minor": 4
}
